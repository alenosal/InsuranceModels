{
 "cells": [
  {
   "cell_type": "code",
   "execution_count": 41,
   "metadata": {
    "id": "05IamlZEiiRO"
   },
   "outputs": [],
   "source": [
    "import pandas as pd\n",
    "import numpy as np\n",
    "from sklearn.tree import DecisionTreeRegressor\n",
    "from sklearn.linear_model import LinearRegression\n",
    "from sklearn.linear_model import LogisticRegression\n",
    "from sklearn.ensemble import RandomForestRegressor\n",
    "from sklearn.ensemble import GradientBoostingRegressor\n",
    "import matplotlib.pyplot as plt"
   ]
  },
  {
   "cell_type": "markdown",
   "metadata": {
    "id": "SdE_FuSxr8M0"
   },
   "source": [
    "Wczytujemy dane, które ręcznie zostały podzielone na dane testowe i treningowe. Zostały one zaimportowane z poprzedniego notatnika, zatem zostały uprzednio odpowiednio \"oczyszczone\" oraz znormalizowane."
   ]
  },
  {
   "cell_type": "code",
   "execution_count": 42,
   "metadata": {
    "colab": {
     "base_uri": "https://localhost:8080/",
     "height": 300
    },
    "id": "DcjStrJfvdk8",
    "outputId": "01effc6d-3f54-4ec8-d7fc-d42b287a0c83"
   },
   "outputs": [
    {
     "data": {
      "text/html": [
       "<div>\n",
       "<style scoped>\n",
       "    .dataframe tbody tr th:only-of-type {\n",
       "        vertical-align: middle;\n",
       "    }\n",
       "\n",
       "    .dataframe tbody tr th {\n",
       "        vertical-align: top;\n",
       "    }\n",
       "\n",
       "    .dataframe thead th {\n",
       "        text-align: right;\n",
       "    }\n",
       "</style>\n",
       "<table border=\"1\" class=\"dataframe\">\n",
       "  <thead>\n",
       "    <tr style=\"text-align: right;\">\n",
       "      <th></th>\n",
       "      <th>age</th>\n",
       "      <th>sex</th>\n",
       "      <th>bmi</th>\n",
       "      <th>children</th>\n",
       "      <th>smoker</th>\n",
       "      <th>charges</th>\n",
       "      <th>southwest</th>\n",
       "      <th>northwest</th>\n",
       "      <th>southeast</th>\n",
       "      <th>northeast</th>\n",
       "    </tr>\n",
       "  </thead>\n",
       "  <tbody>\n",
       "    <tr>\n",
       "      <th>count</th>\n",
       "      <td>998.000000</td>\n",
       "      <td>998.000000</td>\n",
       "      <td>998.000000</td>\n",
       "      <td>998.000000</td>\n",
       "      <td>998.000000</td>\n",
       "      <td>998.000000</td>\n",
       "      <td>998.000000</td>\n",
       "      <td>998.000000</td>\n",
       "      <td>998.000000</td>\n",
       "      <td>998.000000</td>\n",
       "    </tr>\n",
       "    <tr>\n",
       "      <th>mean</th>\n",
       "      <td>0.029778</td>\n",
       "      <td>-0.001561</td>\n",
       "      <td>0.032653</td>\n",
       "      <td>-0.013078</td>\n",
       "      <td>0.196393</td>\n",
       "      <td>-0.014868</td>\n",
       "      <td>0.244489</td>\n",
       "      <td>0.230461</td>\n",
       "      <td>0.278557</td>\n",
       "      <td>0.246493</td>\n",
       "    </tr>\n",
       "    <tr>\n",
       "      <th>std</th>\n",
       "      <td>1.008642</td>\n",
       "      <td>1.000484</td>\n",
       "      <td>0.987219</td>\n",
       "      <td>0.994103</td>\n",
       "      <td>0.397468</td>\n",
       "      <td>1.001754</td>\n",
       "      <td>0.429999</td>\n",
       "      <td>0.421339</td>\n",
       "      <td>0.448514</td>\n",
       "      <td>0.431185</td>\n",
       "    </tr>\n",
       "    <tr>\n",
       "      <th>min</th>\n",
       "      <td>-1.509965</td>\n",
       "      <td>-0.989591</td>\n",
       "      <td>-2.446612</td>\n",
       "      <td>-0.908614</td>\n",
       "      <td>0.000000</td>\n",
       "      <td>-1.728485</td>\n",
       "      <td>0.000000</td>\n",
       "      <td>0.000000</td>\n",
       "      <td>0.000000</td>\n",
       "      <td>0.000000</td>\n",
       "    </tr>\n",
       "    <tr>\n",
       "      <th>25%</th>\n",
       "      <td>-0.869155</td>\n",
       "      <td>-0.989591</td>\n",
       "      <td>-0.660057</td>\n",
       "      <td>-0.908614</td>\n",
       "      <td>0.000000</td>\n",
       "      <td>-0.870756</td>\n",
       "      <td>0.000000</td>\n",
       "      <td>0.000000</td>\n",
       "      <td>0.000000</td>\n",
       "      <td>0.000000</td>\n",
       "    </tr>\n",
       "    <tr>\n",
       "      <th>50%</th>\n",
       "      <td>0.056461</td>\n",
       "      <td>-0.989591</td>\n",
       "      <td>-0.006819</td>\n",
       "      <td>-0.078767</td>\n",
       "      <td>0.000000</td>\n",
       "      <td>-0.014323</td>\n",
       "      <td>0.000000</td>\n",
       "      <td>0.000000</td>\n",
       "      <td>0.000000</td>\n",
       "      <td>0.000000</td>\n",
       "    </tr>\n",
       "    <tr>\n",
       "      <th>75%</th>\n",
       "      <td>0.910875</td>\n",
       "      <td>1.010519</td>\n",
       "      <td>0.688804</td>\n",
       "      <td>0.751079</td>\n",
       "      <td>0.000000</td>\n",
       "      <td>0.834343</td>\n",
       "      <td>0.000000</td>\n",
       "      <td>0.000000</td>\n",
       "      <td>1.000000</td>\n",
       "      <td>0.000000</td>\n",
       "    </tr>\n",
       "    <tr>\n",
       "      <th>max</th>\n",
       "      <td>1.765289</td>\n",
       "      <td>1.010519</td>\n",
       "      <td>3.281680</td>\n",
       "      <td>3.240619</td>\n",
       "      <td>1.000000</td>\n",
       "      <td>1.730911</td>\n",
       "      <td>1.000000</td>\n",
       "      <td>1.000000</td>\n",
       "      <td>1.000000</td>\n",
       "      <td>1.000000</td>\n",
       "    </tr>\n",
       "  </tbody>\n",
       "</table>\n",
       "</div>"
      ],
      "text/plain": [
       "              age         sex         bmi    children      smoker     charges  \\\n",
       "count  998.000000  998.000000  998.000000  998.000000  998.000000  998.000000   \n",
       "mean     0.029778   -0.001561    0.032653   -0.013078    0.196393   -0.014868   \n",
       "std      1.008642    1.000484    0.987219    0.994103    0.397468    1.001754   \n",
       "min     -1.509965   -0.989591   -2.446612   -0.908614    0.000000   -1.728485   \n",
       "25%     -0.869155   -0.989591   -0.660057   -0.908614    0.000000   -0.870756   \n",
       "50%      0.056461   -0.989591   -0.006819   -0.078767    0.000000   -0.014323   \n",
       "75%      0.910875    1.010519    0.688804    0.751079    0.000000    0.834343   \n",
       "max      1.765289    1.010519    3.281680    3.240619    1.000000    1.730911   \n",
       "\n",
       "        southwest   northwest   southeast   northeast  \n",
       "count  998.000000  998.000000  998.000000  998.000000  \n",
       "mean     0.244489    0.230461    0.278557    0.246493  \n",
       "std      0.429999    0.421339    0.448514    0.431185  \n",
       "min      0.000000    0.000000    0.000000    0.000000  \n",
       "25%      0.000000    0.000000    0.000000    0.000000  \n",
       "50%      0.000000    0.000000    0.000000    0.000000  \n",
       "75%      0.000000    0.000000    1.000000    0.000000  \n",
       "max      1.000000    1.000000    1.000000    1.000000  "
      ]
     },
     "execution_count": 42,
     "metadata": {},
     "output_type": "execute_result"
    }
   ],
   "source": [
    "data_train = pd.read_csv('./sdata_train.csv', delimiter=';')\n",
    "data_train.describe()"
   ]
  },
  {
   "cell_type": "code",
   "execution_count": 43,
   "metadata": {
    "colab": {
     "base_uri": "https://localhost:8080/",
     "height": 300
    },
    "id": "JPQv8aF4iexl",
    "outputId": "ecf2d989-e694-45f5-d9f6-40e5ab96d784"
   },
   "outputs": [
    {
     "data": {
      "text/html": [
       "<div>\n",
       "<style scoped>\n",
       "    .dataframe tbody tr th:only-of-type {\n",
       "        vertical-align: middle;\n",
       "    }\n",
       "\n",
       "    .dataframe tbody tr th {\n",
       "        vertical-align: top;\n",
       "    }\n",
       "\n",
       "    .dataframe thead th {\n",
       "        text-align: right;\n",
       "    }\n",
       "</style>\n",
       "<table border=\"1\" class=\"dataframe\">\n",
       "  <thead>\n",
       "    <tr style=\"text-align: right;\">\n",
       "      <th></th>\n",
       "      <th>age</th>\n",
       "      <th>sex</th>\n",
       "      <th>bmi</th>\n",
       "      <th>children</th>\n",
       "      <th>smoker</th>\n",
       "      <th>charges</th>\n",
       "      <th>southwest</th>\n",
       "      <th>northwest</th>\n",
       "      <th>southeast</th>\n",
       "      <th>northeast</th>\n",
       "    </tr>\n",
       "  </thead>\n",
       "  <tbody>\n",
       "    <tr>\n",
       "      <th>count</th>\n",
       "      <td>340.000000</td>\n",
       "      <td>340.000000</td>\n",
       "      <td>340.000000</td>\n",
       "      <td>340.000000</td>\n",
       "      <td>340.000000</td>\n",
       "      <td>340.000000</td>\n",
       "      <td>340.000000</td>\n",
       "      <td>340.000000</td>\n",
       "      <td>340.000000</td>\n",
       "      <td>340.000000</td>\n",
       "    </tr>\n",
       "    <tr>\n",
       "      <th>mean</th>\n",
       "      <td>-0.087408</td>\n",
       "      <td>0.004581</td>\n",
       "      <td>-0.095848</td>\n",
       "      <td>0.038388</td>\n",
       "      <td>0.229412</td>\n",
       "      <td>0.043641</td>\n",
       "      <td>0.238235</td>\n",
       "      <td>0.276471</td>\n",
       "      <td>0.255882</td>\n",
       "      <td>0.229412</td>\n",
       "    </tr>\n",
       "    <tr>\n",
       "      <th>std</th>\n",
       "      <td>0.971893</td>\n",
       "      <td>1.001511</td>\n",
       "      <td>1.033558</td>\n",
       "      <td>1.019068</td>\n",
       "      <td>0.421074</td>\n",
       "      <td>0.996500</td>\n",
       "      <td>0.426632</td>\n",
       "      <td>0.447911</td>\n",
       "      <td>0.436999</td>\n",
       "      <td>0.421074</td>\n",
       "    </tr>\n",
       "    <tr>\n",
       "      <th>min</th>\n",
       "      <td>-1.509965</td>\n",
       "      <td>-0.989591</td>\n",
       "      <td>-2.304320</td>\n",
       "      <td>-0.908614</td>\n",
       "      <td>0.000000</td>\n",
       "      <td>-1.720716</td>\n",
       "      <td>0.000000</td>\n",
       "      <td>0.000000</td>\n",
       "      <td>0.000000</td>\n",
       "      <td>0.000000</td>\n",
       "    </tr>\n",
       "    <tr>\n",
       "      <th>25%</th>\n",
       "      <td>-1.011557</td>\n",
       "      <td>-0.989591</td>\n",
       "      <td>-0.818367</td>\n",
       "      <td>-0.908614</td>\n",
       "      <td>0.000000</td>\n",
       "      <td>-0.819616</td>\n",
       "      <td>0.000000</td>\n",
       "      <td>0.000000</td>\n",
       "      <td>0.000000</td>\n",
       "      <td>0.000000</td>\n",
       "    </tr>\n",
       "    <tr>\n",
       "      <th>50%</th>\n",
       "      <td>-0.085942</td>\n",
       "      <td>-0.989591</td>\n",
       "      <td>-0.122510</td>\n",
       "      <td>-0.078767</td>\n",
       "      <td>0.000000</td>\n",
       "      <td>0.084073</td>\n",
       "      <td>0.000000</td>\n",
       "      <td>0.000000</td>\n",
       "      <td>0.000000</td>\n",
       "      <td>0.000000</td>\n",
       "    </tr>\n",
       "    <tr>\n",
       "      <th>75%</th>\n",
       "      <td>0.768473</td>\n",
       "      <td>1.010519</td>\n",
       "      <td>0.519468</td>\n",
       "      <td>0.751079</td>\n",
       "      <td>0.000000</td>\n",
       "      <td>0.949570</td>\n",
       "      <td>0.000000</td>\n",
       "      <td>1.000000</td>\n",
       "      <td>1.000000</td>\n",
       "      <td>0.000000</td>\n",
       "    </tr>\n",
       "    <tr>\n",
       "      <th>max</th>\n",
       "      <td>1.765289</td>\n",
       "      <td>1.010519</td>\n",
       "      <td>3.739345</td>\n",
       "      <td>3.240619</td>\n",
       "      <td>1.000000</td>\n",
       "      <td>1.728322</td>\n",
       "      <td>1.000000</td>\n",
       "      <td>1.000000</td>\n",
       "      <td>1.000000</td>\n",
       "      <td>1.000000</td>\n",
       "    </tr>\n",
       "  </tbody>\n",
       "</table>\n",
       "</div>"
      ],
      "text/plain": [
       "              age         sex         bmi    children      smoker     charges  \\\n",
       "count  340.000000  340.000000  340.000000  340.000000  340.000000  340.000000   \n",
       "mean    -0.087408    0.004581   -0.095848    0.038388    0.229412    0.043641   \n",
       "std      0.971893    1.001511    1.033558    1.019068    0.421074    0.996500   \n",
       "min     -1.509965   -0.989591   -2.304320   -0.908614    0.000000   -1.720716   \n",
       "25%     -1.011557   -0.989591   -0.818367   -0.908614    0.000000   -0.819616   \n",
       "50%     -0.085942   -0.989591   -0.122510   -0.078767    0.000000    0.084073   \n",
       "75%      0.768473    1.010519    0.519468    0.751079    0.000000    0.949570   \n",
       "max      1.765289    1.010519    3.739345    3.240619    1.000000    1.728322   \n",
       "\n",
       "        southwest   northwest   southeast   northeast  \n",
       "count  340.000000  340.000000  340.000000  340.000000  \n",
       "mean     0.238235    0.276471    0.255882    0.229412  \n",
       "std      0.426632    0.447911    0.436999    0.421074  \n",
       "min      0.000000    0.000000    0.000000    0.000000  \n",
       "25%      0.000000    0.000000    0.000000    0.000000  \n",
       "50%      0.000000    0.000000    0.000000    0.000000  \n",
       "75%      0.000000    1.000000    1.000000    0.000000  \n",
       "max      1.000000    1.000000    1.000000    1.000000  "
      ]
     },
     "execution_count": 43,
     "metadata": {},
     "output_type": "execute_result"
    }
   ],
   "source": [
    "data_test = pd.read_csv('./sdata_test.csv', delimiter=';')\n",
    "data_test.describe()"
   ]
  },
  {
   "cell_type": "code",
   "execution_count": 44,
   "metadata": {
    "colab": {
     "base_uri": "https://localhost:8080/"
    },
    "id": "leStQd0jiqLy",
    "outputId": "571a9546-9678-485f-e836-cff43e80ab38"
   },
   "outputs": [
    {
     "name": "stdout",
     "output_type": "stream",
     "text": [
      "0.3406813627254509\n"
     ]
    }
   ],
   "source": [
    "print(data_test[\"age\"].count() / data_train[\"age\"].count())"
   ]
  },
  {
   "cell_type": "markdown",
   "metadata": {
    "id": "c8nBjSX7Czpv"
   },
   "source": [
    "Dane zostały podzielone ręcznie na zbiór treningowy i testowy. Danych testowych jest 34%."
   ]
  },
  {
   "cell_type": "markdown",
   "metadata": {
    "id": "yGM7VrrImAaY"
   },
   "source": [
    "# UCZENIE MODELI"
   ]
  },
  {
   "cell_type": "markdown",
   "metadata": {
    "id": "qW0XDXkMsR9Y"
   },
   "source": [
    "W zadaniu zdecydowaliśmy użyć 4 różnych regresorów:\n",
    "\n",
    "\n",
    "*   Linear Regression\n",
    "*   Decision Tree Regressor\n",
    "*   Random Forest Regressor\n",
    "*   Gradient Boosting Regressor\n",
    "\n"
   ]
  },
  {
   "cell_type": "code",
   "execution_count": 45,
   "metadata": {
    "colab": {
     "base_uri": "https://localhost:8080/",
     "height": 174
    },
    "id": "3gHu8V7XjCZq",
    "outputId": "1bb2b3e0-a4cd-4815-923d-f9d9a689d884"
   },
   "outputs": [
    {
     "data": {
      "text/html": [
       "<div>\n",
       "<style scoped>\n",
       "    .dataframe tbody tr th:only-of-type {\n",
       "        vertical-align: middle;\n",
       "    }\n",
       "\n",
       "    .dataframe tbody tr th {\n",
       "        vertical-align: top;\n",
       "    }\n",
       "\n",
       "    .dataframe thead th {\n",
       "        text-align: right;\n",
       "    }\n",
       "</style>\n",
       "<table border=\"1\" class=\"dataframe\">\n",
       "  <thead>\n",
       "    <tr style=\"text-align: right;\">\n",
       "      <th></th>\n",
       "      <th>Regresor</th>\n",
       "      <th>Score (R1)</th>\n",
       "    </tr>\n",
       "  </thead>\n",
       "  <tbody>\n",
       "    <tr>\n",
       "      <th>0</th>\n",
       "      <td>Linear</td>\n",
       "      <td>0.781929</td>\n",
       "    </tr>\n",
       "    <tr>\n",
       "      <th>1</th>\n",
       "      <td>Decision Tree</td>\n",
       "      <td>0.905875</td>\n",
       "    </tr>\n",
       "    <tr>\n",
       "      <th>2</th>\n",
       "      <td>Random Forrest</td>\n",
       "      <td>0.928390</td>\n",
       "    </tr>\n",
       "    <tr>\n",
       "      <th>3</th>\n",
       "      <td>Gradient Boosting</td>\n",
       "      <td>0.887734</td>\n",
       "    </tr>\n",
       "  </tbody>\n",
       "</table>\n",
       "</div>"
      ],
      "text/plain": [
       "            Regresor  Score (R1)\n",
       "0             Linear    0.781929\n",
       "1      Decision Tree    0.905875\n",
       "2     Random Forrest    0.928390\n",
       "3  Gradient Boosting    0.887734"
      ]
     },
     "execution_count": 45,
     "metadata": {},
     "output_type": "execute_result"
    }
   ],
   "source": [
    "X = data_train[['age', 'bmi', 'sex' ,'smoker', 'children', 'southwest', 'northwest', 'southeast', 'northeast']]\n",
    "\n",
    "y = data_train['charges']\n",
    "\n",
    "model = LinearRegression()\n",
    "model.fit(X,y)\n",
    "\n",
    "dtr1 = DecisionTreeRegressor(max_depth=8, random_state=1)\n",
    "dtr1.fit(X,y)\n",
    "\n",
    "rfr = RandomForestRegressor(max_depth=8, random_state=0)\n",
    "rfr.fit(X,y)\n",
    "\n",
    "gbr = GradientBoostingRegressor(random_state=0)\n",
    "gbr.fit(X,y)\n",
    "\n",
    "models_score = [[\"Linear\", model.score(X,y)],\n",
    "        [\"Decision Tree\", dtr1.score(X,y)],\n",
    "        [\"Random Forrest\", rfr.score(X,y)],\n",
    "        [\"Gradient Boosting\", gbr.score(X,y)]]\n",
    "\n",
    "pd.DataFrame(models_score, columns=[\"Regresor\", \"Score (R1)\"])"
   ]
  },
  {
   "cell_type": "markdown",
   "metadata": {
    "id": "YhVxMk5enGHk"
   },
   "source": [
    "# TWORZENIE PREDYKCJI"
   ]
  },
  {
   "cell_type": "code",
   "execution_count": 46,
   "metadata": {
    "id": "86vSh6QDnK-z"
   },
   "outputs": [],
   "source": [
    "X = data_test[['age', 'bmi', 'sex' ,'smoker', 'children', 'southwest', 'northwest', 'southeast', 'northeast']]\n",
    "y_true = data_test['charges']\n",
    "lr_y_pred = model.predict(X)\n",
    "\n",
    "dtr_y_pred = dtr1.predict(X)\n",
    "\n",
    "rfr_y_pred = rfr.predict(X)\n",
    "\n",
    "gbr_y_pred = gbr.predict(X)\n"
   ]
  },
  {
   "cell_type": "markdown",
   "metadata": {
    "id": "9D5sed3CmGzv"
   },
   "source": [
    "# OBLICZANIE WARTOŚCI"
   ]
  },
  {
   "cell_type": "code",
   "execution_count": 47,
   "metadata": {
    "id": "DVFYF8ewtWH7"
   },
   "outputs": [],
   "source": [
    "def MSE(y_true, y_pred):\n",
    "  result = 0\n",
    "  for i, j in zip(y_true, y_pred):\n",
    "    result = result + abs(i-j)**2\n",
    "  return result / len (y_true) \n",
    "\n",
    "def MAE(y_true, y_pred):\n",
    "  result = 0;\n",
    "  for i, j in zip(y_true, y_pred):\n",
    "    result = result + abs(i-j)\n",
    "  return result / len (y_true) "
   ]
  },
  {
   "cell_type": "code",
   "execution_count": 48,
   "metadata": {
    "colab": {
     "base_uri": "https://localhost:8080/",
     "height": 174
    },
    "id": "3W1fqEySEhWW",
    "outputId": "007a94f9-3b94-4e60-d537-99a0999e86ec"
   },
   "outputs": [
    {
     "data": {
      "text/html": [
       "<div>\n",
       "<style scoped>\n",
       "    .dataframe tbody tr th:only-of-type {\n",
       "        vertical-align: middle;\n",
       "    }\n",
       "\n",
       "    .dataframe tbody tr th {\n",
       "        vertical-align: top;\n",
       "    }\n",
       "\n",
       "    .dataframe thead th {\n",
       "        text-align: right;\n",
       "    }\n",
       "</style>\n",
       "<table border=\"1\" class=\"dataframe\">\n",
       "  <thead>\n",
       "    <tr style=\"text-align: right;\">\n",
       "      <th></th>\n",
       "      <th>Model</th>\n",
       "      <th>R2</th>\n",
       "      <th>Wariancja wyjaśniona</th>\n",
       "      <th>MSE</th>\n",
       "      <th>MAE</th>\n",
       "      <th>MSE (wlasna funkcja)</th>\n",
       "      <th>MAE (wlasna funkcja)</th>\n",
       "    </tr>\n",
       "  </thead>\n",
       "  <tbody>\n",
       "    <tr>\n",
       "      <th>0</th>\n",
       "      <td>Linear regression</td>\n",
       "      <td>-0.450444</td>\n",
       "      <td>-0.445066</td>\n",
       "      <td>1.436072</td>\n",
       "      <td>0.879166</td>\n",
       "      <td>1.436072</td>\n",
       "      <td>0.879166</td>\n",
       "    </tr>\n",
       "    <tr>\n",
       "      <th>1</th>\n",
       "      <td>Decison tree regression</td>\n",
       "      <td>-0.649384</td>\n",
       "      <td>-0.644501</td>\n",
       "      <td>1.633041</td>\n",
       "      <td>0.887139</td>\n",
       "      <td>1.633041</td>\n",
       "      <td>0.887139</td>\n",
       "    </tr>\n",
       "    <tr>\n",
       "      <th>2</th>\n",
       "      <td>Random forrest regression</td>\n",
       "      <td>-0.576588</td>\n",
       "      <td>-0.572388</td>\n",
       "      <td>1.560966</td>\n",
       "      <td>0.863238</td>\n",
       "      <td>1.560966</td>\n",
       "      <td>0.863238</td>\n",
       "    </tr>\n",
       "    <tr>\n",
       "      <th>3</th>\n",
       "      <td>Gradient Boosting Regression</td>\n",
       "      <td>-0.566988</td>\n",
       "      <td>-0.560972</td>\n",
       "      <td>1.551461</td>\n",
       "      <td>0.851323</td>\n",
       "      <td>1.551461</td>\n",
       "      <td>0.851323</td>\n",
       "    </tr>\n",
       "  </tbody>\n",
       "</table>\n",
       "</div>"
      ],
      "text/plain": [
       "                          Model        R2  Wariancja wyjaśniona       MSE  \\\n",
       "0             Linear regression -0.450444             -0.445066  1.436072   \n",
       "1       Decison tree regression -0.649384             -0.644501  1.633041   \n",
       "2     Random forrest regression -0.576588             -0.572388  1.560966   \n",
       "3  Gradient Boosting Regression -0.566988             -0.560972  1.551461   \n",
       "\n",
       "        MAE  MSE (wlasna funkcja)  MAE (wlasna funkcja)  \n",
       "0  0.879166              1.436072              0.879166  \n",
       "1  0.887139              1.633041              0.887139  \n",
       "2  0.863238              1.560966              0.863238  \n",
       "3  0.851323              1.551461              0.851323  "
      ]
     },
     "metadata": {},
     "output_type": "display_data"
    }
   ],
   "source": [
    "from sklearn.metrics import r2_score\n",
    "from sklearn.metrics import explained_variance_score\n",
    "from sklearn.metrics import mean_squared_error\n",
    "from sklearn.metrics import mean_absolute_error\n",
    "\n",
    "df_model_values_base = pd.DataFrame([], columns = ['Model' , 'R2', 'Wariancja wyjaśniona' , 'MSE', 'MAE'])\n",
    "\n",
    "def count_values(y_pred, algorith_name):\n",
    "  list = [[algorith_name, r2_score(y_true, y_pred), explained_variance_score(y_true, y_pred), mean_squared_error(y_true, y_pred), MSE(y_true, y_pred), mean_absolute_error(y_true, y_pred), MAE(y_true, y_pred)]]\n",
    "  return list;\n",
    "\n",
    "df_model_values_base = df_model_values_base.append(pd.DataFrame(count_values(lr_y_pred, \"Linear regression\"), columns=['Model' , 'R2', 'Wariancja wyjaśniona' , 'MSE', 'MSE (wlasna funkcja)', 'MAE', 'MAE (wlasna funkcja)']),ignore_index = True)\n",
    "df_model_values_base = df_model_values_base.append(pd.DataFrame(count_values(dtr_y_pred, \"Decison tree regression\"), columns=['Model' , 'R2', 'Wariancja wyjaśniona' , 'MSE', 'MSE (wlasna funkcja)' ,'MAE', 'MAE (wlasna funkcja)']),ignore_index = True)\n",
    "df_model_values_base = df_model_values_base.append(pd.DataFrame(count_values(rfr_y_pred, \"Random forrest regression\"), columns=['Model' , 'R2', 'Wariancja wyjaśniona' , 'MSE', 'MSE (wlasna funkcja)', 'MAE', 'MAE (wlasna funkcja)']),ignore_index = True)\n",
    "df_model_values_base = df_model_values_base.append(pd.DataFrame(count_values(gbr_y_pred, \"Gradient Boosting Regression\"), columns=['Model' , 'R2', 'Wariancja wyjaśniona' , 'MSE', 'MSE (wlasna funkcja)', 'MAE', 'MAE (wlasna funkcja)']),ignore_index = True)\n",
    "\n",
    "display(df_model_values_base)\n"
   ]
  },
  {
   "cell_type": "markdown",
   "metadata": {
    "id": "V4yjx7sTyHLM"
   },
   "source": [
    "Widać, że przy wykorzystaniu własnych funkcji wartości błędów MSE oraz MAE zwracają niemal identyczne wyniki."
   ]
  },
  {
   "cell_type": "markdown",
   "metadata": {
    "id": "9pH7fheJxADL"
   },
   "source": [
    "# WALIDACJA KRZYŻOWA"
   ]
  },
  {
   "cell_type": "code",
   "execution_count": 49,
   "metadata": {
    "colab": {
     "base_uri": "https://localhost:8080/",
     "height": 174
    },
    "id": "ArJsNEd9-AR8",
    "outputId": "371e61c7-3921-4aaf-b9b7-e0948e0d41e6"
   },
   "outputs": [
    {
     "data": {
      "text/html": [
       "<div>\n",
       "<style scoped>\n",
       "    .dataframe tbody tr th:only-of-type {\n",
       "        vertical-align: middle;\n",
       "    }\n",
       "\n",
       "    .dataframe tbody tr th {\n",
       "        vertical-align: top;\n",
       "    }\n",
       "\n",
       "    .dataframe thead th {\n",
       "        text-align: right;\n",
       "    }\n",
       "</style>\n",
       "<table border=\"1\" class=\"dataframe\">\n",
       "  <thead>\n",
       "    <tr style=\"text-align: right;\">\n",
       "      <th></th>\n",
       "      <th>Model</th>\n",
       "      <th>Walidacja krzyżowa (k=5)</th>\n",
       "      <th>Walidacja krzyżowa (k=10)</th>\n",
       "      <th>Wartość liczona funkcją sklearn (k=5)</th>\n",
       "    </tr>\n",
       "  </thead>\n",
       "  <tbody>\n",
       "    <tr>\n",
       "      <th>0</th>\n",
       "      <td>Linear</td>\n",
       "      <td>0.778289</td>\n",
       "      <td>0.777208</td>\n",
       "      <td>0.774096</td>\n",
       "    </tr>\n",
       "    <tr>\n",
       "      <th>1</th>\n",
       "      <td>Decision Tree</td>\n",
       "      <td>0.731023</td>\n",
       "      <td>0.747060</td>\n",
       "      <td>0.741721</td>\n",
       "    </tr>\n",
       "    <tr>\n",
       "      <th>2</th>\n",
       "      <td>Random Forrest</td>\n",
       "      <td>0.810829</td>\n",
       "      <td>0.816084</td>\n",
       "      <td>0.812351</td>\n",
       "    </tr>\n",
       "    <tr>\n",
       "      <th>3</th>\n",
       "      <td>Gradient Boosting</td>\n",
       "      <td>0.829874</td>\n",
       "      <td>0.833856</td>\n",
       "      <td>0.830809</td>\n",
       "    </tr>\n",
       "  </tbody>\n",
       "</table>\n",
       "</div>"
      ],
      "text/plain": [
       "               Model  Walidacja krzyżowa (k=5)  Walidacja krzyżowa (k=10)  \\\n",
       "0             Linear                  0.778289                   0.777208   \n",
       "1      Decision Tree                  0.731023                   0.747060   \n",
       "2     Random Forrest                  0.810829                   0.816084   \n",
       "3  Gradient Boosting                  0.829874                   0.833856   \n",
       "\n",
       "   Wartość liczona funkcją sklearn (k=5)  \n",
       "0                               0.774096  \n",
       "1                               0.741721  \n",
       "2                               0.812351  \n",
       "3                               0.830809  "
      ]
     },
     "execution_count": 49,
     "metadata": {},
     "output_type": "execute_result"
    }
   ],
   "source": [
    "from sklearn.model_selection import cross_validate\n",
    "\n",
    "X = data_train[['age', 'bmi', 'sex' ,'smoker', 'children', 'southwest', 'northwest', 'southeast', 'northeast']]\n",
    "y = data_train['charges']\n",
    "\n",
    "def k_fold_cross_validation(xtrain, ytrain, mod, k):\n",
    "\n",
    "  combine_data = pd.concat([xtrain,ytrain],ignore_index=True,axis=1)\n",
    "  folds = np.array_split(combine_data, k)\n",
    "  m,n = np.shape(combine_data)\n",
    "  \n",
    "  cv_results = []\n",
    "\n",
    "  for i in range(k): \n",
    "    train_index = [i for i in range(k)] \n",
    "    del train_index[i] \n",
    "    train_partitions = [folds[j] for j in train_index]  \n",
    "    training_set = pd.concat(train_partitions,axis=0)\n",
    "    test_set = pd.DataFrame(folds[i])\n",
    "        \n",
    "    train_x = training_set.iloc[:, 0:n-1]\n",
    "    train_y = training_set.iloc[:,-1]\n",
    "    test_x = test_set.iloc[:, 0:n-1]\n",
    "    test_y = test_set.iloc[:,-1]\n",
    "\n",
    "    mod.fit(train_x, train_y)\n",
    "    predictions = mod.predict(test_x)\n",
    "    error = explained_variance_score(test_y,predictions)\n",
    "        \n",
    "    cv_results.append(error)\n",
    "\n",
    "  return(np.mean(cv_results)) \n",
    "\n",
    "models_k_fold = [[\"Linear\", k_fold_cross_validation(X,y,model,5), k_fold_cross_validation(X,y,model,10), np.mean(cross_validate(model, X, y, cv=10)['test_score'])],\n",
    "        [\"Decision Tree\", k_fold_cross_validation(X,y,dtr1,5), k_fold_cross_validation(X,y,dtr1,10), np.mean(cross_validate(dtr1, X, y, cv=10)['test_score'])],\n",
    "        [\"Random Forrest\", k_fold_cross_validation(X,y,rfr,5), k_fold_cross_validation(X,y,rfr,10), np.mean(cross_validate(rfr, X, y, cv=10)['test_score'])],\n",
    "        [\"Gradient Boosting\", k_fold_cross_validation(X,y,gbr,5), k_fold_cross_validation(X,y,gbr,10), np.mean(cross_validate(gbr, X, y, cv=10)['test_score'])]]\n",
    "\n",
    "pd.DataFrame(models_k_fold, columns=[\"Model\", \"Walidacja krzyżowa (k=5)\", \"Walidacja krzyżowa (k=10)\", \"Wartość liczona funkcją sklearn (k=5)\"])"
   ]
  },
  {
   "cell_type": "markdown",
   "metadata": {
    "id": "vtXB4tMgwCv8"
   },
   "source": [
    "Widać, że wartości liczone własną funkcją sa bardzo zbliżone do wyników wykorzystujących metodę do obliczadania walidacji krzyżowej z biblioteki sklearn."
   ]
  },
  {
   "cell_type": "markdown",
   "metadata": {
    "id": "qxYNYixPwQs4"
   },
   "source": [
    "Na podstawie przeprowadzonych badań można powiedzieć, że każdy z wykorzystanych regresorów dość dobrze przewiduje cenę ubezpieczenia w zależności od wybranych parametrów."
   ]
  },
  {
   "cell_type": "markdown",
   "metadata": {
    "id": "0HU5tRIsXYdY"
   },
   "source": [
    "Najlepszym modelem na podstawie walidacji krzyżowej okazuje się model wykorzystujacy regresor Gradient Boosting.\n",
    "\n"
   ]
  },
  {
   "cell_type": "code",
   "execution_count": 50,
   "metadata": {
    "id": "a7z_eDQp07Pv"
   },
   "outputs": [
    {
     "data": {
      "text/html": [
       "<div>\n",
       "<style scoped>\n",
       "    .dataframe tbody tr th:only-of-type {\n",
       "        vertical-align: middle;\n",
       "    }\n",
       "\n",
       "    .dataframe tbody tr th {\n",
       "        vertical-align: top;\n",
       "    }\n",
       "\n",
       "    .dataframe thead th {\n",
       "        text-align: right;\n",
       "    }\n",
       "</style>\n",
       "<table border=\"1\" class=\"dataframe\">\n",
       "  <thead>\n",
       "    <tr style=\"text-align: right;\">\n",
       "      <th></th>\n",
       "      <th>Model</th>\n",
       "      <th>R2</th>\n",
       "      <th>Wariancja wyjaśniona</th>\n",
       "      <th>MSE</th>\n",
       "      <th>MAE</th>\n",
       "      <th>MSE (wlasna funkcja)</th>\n",
       "      <th>MAE (wlasna funkcja)</th>\n",
       "    </tr>\n",
       "  </thead>\n",
       "  <tbody>\n",
       "    <tr>\n",
       "      <th>0</th>\n",
       "      <td>Linear regression</td>\n",
       "      <td>-0.450444</td>\n",
       "      <td>-0.445066</td>\n",
       "      <td>1.436072</td>\n",
       "      <td>0.879166</td>\n",
       "      <td>1.436072</td>\n",
       "      <td>0.879166</td>\n",
       "    </tr>\n",
       "    <tr>\n",
       "      <th>1</th>\n",
       "      <td>Decison tree regression</td>\n",
       "      <td>-0.649384</td>\n",
       "      <td>-0.644501</td>\n",
       "      <td>1.633041</td>\n",
       "      <td>0.887139</td>\n",
       "      <td>1.633041</td>\n",
       "      <td>0.887139</td>\n",
       "    </tr>\n",
       "    <tr>\n",
       "      <th>2</th>\n",
       "      <td>Random forrest regression</td>\n",
       "      <td>-0.576588</td>\n",
       "      <td>-0.572388</td>\n",
       "      <td>1.560966</td>\n",
       "      <td>0.863238</td>\n",
       "      <td>1.560966</td>\n",
       "      <td>0.863238</td>\n",
       "    </tr>\n",
       "    <tr>\n",
       "      <th>3</th>\n",
       "      <td>Gradient Boosting Regression</td>\n",
       "      <td>-0.566988</td>\n",
       "      <td>-0.560972</td>\n",
       "      <td>1.551461</td>\n",
       "      <td>0.851323</td>\n",
       "      <td>1.551461</td>\n",
       "      <td>0.851323</td>\n",
       "    </tr>\n",
       "    <tr>\n",
       "      <th>4</th>\n",
       "      <td>StackingCVRegressor</td>\n",
       "      <td>-0.550487</td>\n",
       "      <td>-0.545501</td>\n",
       "      <td>1.535124</td>\n",
       "      <td>0.851935</td>\n",
       "      <td>1.535124</td>\n",
       "      <td>0.851935</td>\n",
       "    </tr>\n",
       "  </tbody>\n",
       "</table>\n",
       "</div>"
      ],
      "text/plain": [
       "                          Model        R2  Wariancja wyjaśniona       MSE  \\\n",
       "0             Linear regression -0.450444             -0.445066  1.436072   \n",
       "1       Decison tree regression -0.649384             -0.644501  1.633041   \n",
       "2     Random forrest regression -0.576588             -0.572388  1.560966   \n",
       "3  Gradient Boosting Regression -0.566988             -0.560972  1.551461   \n",
       "4           StackingCVRegressor -0.550487             -0.545501  1.535124   \n",
       "\n",
       "        MAE  MSE (wlasna funkcja)  MAE (wlasna funkcja)  \n",
       "0  0.879166              1.436072              0.879166  \n",
       "1  0.887139              1.633041              0.887139  \n",
       "2  0.863238              1.560966              0.863238  \n",
       "3  0.851323              1.551461              0.851323  \n",
       "4  0.851935              1.535124              0.851935  "
      ]
     },
     "metadata": {},
     "output_type": "display_data"
    }
   ],
   "source": [
    "from mlxtend.regressor import StackingCVRegressor\n",
    "from sklearn import model_selection\n",
    "import matplotlib.pyplot as plt\n",
    "from sklearn.model_selection import train_test_split\n",
    "from sklearn.ensemble import ExtraTreesRegressor\n",
    "\n",
    "x_train = data_train[['age', 'bmi', 'sex' ,'smoker', 'children', 'southwest', 'northwest', 'southeast', 'northeast']]\n",
    "y_train = data_train['charges']\n",
    "x_test = data_test[['age', 'bmi', 'sex' ,'smoker', 'children', 'southwest', 'northwest', 'southeast', 'northeast']]\n",
    "y_test = data_test['charges']\n",
    "\n",
    "stackingModel = StackingCVRegressor(regressors = (DecisionTreeRegressor(),\n",
    "                                                  RandomForestRegressor(),\n",
    "                                                  GradientBoostingRegressor()),\n",
    "                                    meta_regressor = LinearRegression(),\n",
    "                                    cv = 10, use_features_in_secondary = True,\n",
    "                                    store_train_meta_features = True,\n",
    "                                    shuffle = False)\n",
    "sm = stackingModel.fit(x_train,y_train)\n",
    "pred = sm.predict(x_test)\n",
    "\n",
    "df_model_values_base = df_model_values_base.append(pd.DataFrame(count_values(pred, \"StackingCVRegressor\"), columns=['Model' , 'R2', 'Wariancja wyjaśniona' , 'MSE', 'MSE (wlasna funkcja)', 'MAE', 'MAE (wlasna funkcja)']),ignore_index = True)\n",
    "display(df_model_values_base)"
   ]
  },
  {
   "cell_type": "markdown",
   "metadata": {},
   "source": [
    "# Dobór kolumn"
   ]
  },
  {
   "cell_type": "code",
   "execution_count": 51,
   "metadata": {
    "colab": {
     "base_uri": "https://localhost:8080/",
     "height": 1000
    },
    "id": "F9Csz9x0FrVl",
    "outputId": "edb5ce73-f8cf-4d06-bc0c-d57ba0096c25"
   },
   "outputs": [
    {
     "data": {
      "image/png": "[encoded data removed]",
      "text/plain": [
       "<Figure size 576x504 with 1 Axes>"
      ]
     },
     "metadata": {
      "needs_background": "light"
     },
     "output_type": "display_data"
    },
    {
     "data": {
      "image/png": "[encoded data removed]",
      "text/plain": [
       "<Figure size 576x504 with 2 Axes>"
      ]
     },
     "metadata": {
      "needs_background": "light"
     },
     "output_type": "display_data"
    },
    {
     "data": {
      "image/png": "[encoded data removed]",
      "text/plain": [
       "<Figure size 576x504 with 1 Axes>"
      ]
     },
     "metadata": {
      "needs_background": "light"
     },
     "output_type": "display_data"
    }
   ],
   "source": [
    "from matplotlib import pyplot as plt\n",
    "from matplotlib.pyplot import figure\n",
    "import seaborn as sns\n",
    "\n",
    "reg = GradientBoostingRegressor()\n",
    "reg.fit(X, y)\n",
    "\n",
    "feature_importance = reg.feature_importances_\n",
    "figure(figsize=(8, 7))\n",
    "plt.bar(X.columns, feature_importance)\n",
    "plt.ylabel('importance')\n",
    "plt.show()\n",
    "\n",
    "\n",
    "figure(figsize=(8, 7))\n",
    "corrMatrix = data_train.corr()\n",
    "sns.heatmap(corrMatrix, annot=True)\n",
    "plt.ylabel('importance')\n",
    "plt.show()\n",
    "\n",
    "figure(figsize=(8, 7))\n",
    "plt.bar(data_train.columns, corrMatrix[\"charges\"])\n",
    "plt.ylabel('importance')\n",
    "plt.show()"
   ]
  },
  {
   "cell_type": "markdown",
   "metadata": {
    "id": "PMuDkN6QGO91"
   },
   "source": [
    "# GridSearch"
   ]
  },
  {
   "cell_type": "code",
   "execution_count": 52,
   "metadata": {
    "colab": {
     "base_uri": "https://localhost:8080/",
     "height": 362
    },
    "id": "1yMRM4vW67mG",
    "outputId": "d8d4da14-5f12-4fbc-a64d-7e6046e6e7d3"
   },
   "outputs": [
    {
     "name": "stdout",
     "output_type": "stream",
     "text": [
      "najlepsze parametry:  {'max_depth': 2, 'min_samples_leaf': 16, 'min_samples_split': 2}\n"
     ]
    }
   ],
   "source": [
    "from sklearn.model_selection import GridSearchCV\n",
    "\n",
    "\n",
    "x_train = data_train[['age', 'bmi', 'smoker', 'children']]\n",
    "y_train = data_train['charges']\n",
    "x_test = data_test[['age', 'bmi', 'smoker', 'children']]\n",
    "y_test = data_test['charges']\n",
    "\n",
    "regresor = GradientBoostingRegressor()\n",
    "\n",
    "parameters = {\"max_depth\":[None,1,2,3,4,5,6,7,8,9,10,12,16], \"min_samples_split\":[2,3,4,5,6,7,8,9,10,12,16] ,\"min_samples_leaf\":[2,3,4,5,6,7,8,9,10,12,16]}\n",
    "\n",
    "grid = GridSearchCV(estimator = regresor, param_grid = parameters, cv = 5, n_jobs =-1)\n",
    "grid.fit(x_train,y_train)\n",
    "print(\"najlepsze parametry: \", grid.best_params_)"
   ]
  },
  {
   "cell_type": "code",
   "execution_count": 53,
   "metadata": {
    "id": "Y-HhlNrsBGTU"
   },
   "outputs": [
    {
     "name": "stdout",
     "output_type": "stream",
     "text": [
      "najlepsze parametry:  {'max_depth': 5, 'min_samples_leaf': 16, 'min_samples_split': 2}\n"
     ]
    }
   ],
   "source": [
    "regresor = DecisionTreeRegressor()\n",
    "\n",
    "parameters = {\"max_depth\":[None,1,2,3,4,5,6,7,8,9,10,12,16], \"min_samples_split\":[2,3,4,5,6,7,8,9,10,12,16] ,\"min_samples_leaf\":[1,2,3,4,5,6,7,8,9,10,12,16]}\n",
    "\n",
    "grid = GridSearchCV(estimator = regresor, param_grid = parameters, cv = 5, n_jobs =-1)\n",
    "grid.fit(x_train,y_train)\n",
    "print(\"najlepsze parametry: \", grid.best_params_)"
   ]
  },
  {
   "cell_type": "markdown",
   "metadata": {
    "id": "ICMwaxXuGcmd"
   },
   "source": [
    "# TPot\n"
   ]
  },
  {
   "cell_type": "code",
   "execution_count": 54,
   "metadata": {
    "id": "jdRMmgvLCUeK"
   },
   "outputs": [
    {
     "data": {
      "application/vnd.jupyter.widget-view+json": {
       "model_id": "",
       "version_major": 2,
       "version_minor": 0
      },
      "text/plain": [
       "HBox(children=(HTML(value='Optimization Progress'), FloatProgress(value=0.0, max=220.0), HTML(value='')))"
      ]
     },
     "metadata": {},
     "output_type": "display_data"
    },
    {
     "name": "stdout",
     "output_type": "stream",
     "text": [
      "\n",
      "Generation 1 - Current best internal CV score: -0.17096817752714305\n",
      "\n",
      "Generation 2 - Current best internal CV score: -0.17096817752714305\n",
      "\n",
      "Generation 3 - Current best internal CV score: -0.1672507979698757\n",
      "\n",
      "Generation 4 - Current best internal CV score: -0.1672507979698757\n",
      "\n",
      "Generation 5 - Current best internal CV score: -0.1672507979698757\n",
      "\n",
      "Generation 6 - Current best internal CV score: -0.16700588501658845\n",
      "\n",
      "Generation 7 - Current best internal CV score: -0.16700588501658845\n",
      "\n",
      "Generation 8 - Current best internal CV score: -0.16700588501658845\n",
      "\n",
      "Generation 9 - Current best internal CV score: -0.16700588501658845\n",
      "\n",
      "Generation 10 - Current best internal CV score: -0.16700588501658845\n",
      "\n",
      "Best pipeline: RidgeCV(PolynomialFeatures(ExtraTreesRegressor(LinearSVR(input_matrix, C=1.0, dual=False, epsilon=0.01, loss=squared_epsilon_insensitive, tol=0.0001), bootstrap=True, max_features=0.2, min_samples_leaf=19, min_samples_split=18, n_estimators=100), degree=2, include_bias=False, interaction_only=False))\n",
      "-1.5032958215283385\n"
     ]
    }
   ],
   "source": [
    "from tpot import TPOTRegressor\n",
    "\n",
    "\n",
    "pipeline_optimizer = TPOTRegressor(generations=10, population_size=20, cv=5,\n",
    "                                    random_state=1, verbosity=2)\n",
    "\n",
    "pipeline_optimizer.fit(x_train, y_train)\n",
    "print(pipeline_optimizer.score(x_test, y_test))\n",
    "pipeline_optimizer.export('tpot_exported_pipeline.py')"
   ]
  },
  {
   "cell_type": "code",
   "execution_count": 55,
   "metadata": {
    "id": "Abqp6rFL-NMu"
   },
   "outputs": [
    {
     "data": {
      "text/html": [
       "<div>\n",
       "<style scoped>\n",
       "    .dataframe tbody tr th:only-of-type {\n",
       "        vertical-align: middle;\n",
       "    }\n",
       "\n",
       "    .dataframe tbody tr th {\n",
       "        vertical-align: top;\n",
       "    }\n",
       "\n",
       "    .dataframe thead th {\n",
       "        text-align: right;\n",
       "    }\n",
       "</style>\n",
       "<table border=\"1\" class=\"dataframe\">\n",
       "  <thead>\n",
       "    <tr style=\"text-align: right;\">\n",
       "      <th></th>\n",
       "      <th>Model</th>\n",
       "      <th>R2</th>\n",
       "      <th>Wariancja wyjaśniona</th>\n",
       "      <th>MSE</th>\n",
       "      <th>MAE</th>\n",
       "      <th>MSE (wlasna funkcja)</th>\n",
       "      <th>MAE (wlasna funkcja)</th>\n",
       "    </tr>\n",
       "  </thead>\n",
       "  <tbody>\n",
       "    <tr>\n",
       "      <th>0</th>\n",
       "      <td>Decision tree regressor</td>\n",
       "      <td>-0.556612</td>\n",
       "      <td>-0.550236</td>\n",
       "      <td>1.541187</td>\n",
       "      <td>0.855419</td>\n",
       "      <td>1.541187</td>\n",
       "      <td>0.855419</td>\n",
       "    </tr>\n",
       "  </tbody>\n",
       "</table>\n",
       "</div>"
      ],
      "text/plain": [
       "                     Model        R2  Wariancja wyjaśniona       MSE  \\\n",
       "0  Decision tree regressor -0.556612             -0.550236  1.541187   \n",
       "\n",
       "        MAE  MSE (wlasna funkcja)  MAE (wlasna funkcja)  \n",
       "0  0.855419              1.541187              0.855419  "
      ]
     },
     "metadata": {},
     "output_type": "display_data"
    }
   ],
   "source": [
    "dtr1 = DecisionTreeRegressor(max_depth=12, min_samples_leaf= 16, min_samples_split=3, random_state=1)\n",
    "dtr1.fit(x_train, y_train)\n",
    "\n",
    "df_model_values = pd.DataFrame([], columns = ['Model' , 'R2', 'Wariancja wyjaśniona' , 'MSE', 'MAE'])\n",
    "\n",
    "pred = dtr1.predict(x_test)\n",
    "df_model_values = df_model_values.append(pd.DataFrame(count_values(pred, \"Decision tree regressor\"), columns=['Model' , 'R2', 'Wariancja wyjaśniona' , 'MSE', 'MSE (wlasna funkcja)', 'MAE', 'MAE (wlasna funkcja)']),ignore_index = True)"
   ]
  },
  {
   "cell_type": "code",
   "execution_count": 56,
   "metadata": {
    "id": "Abqp6rFL-NMu"
   },
   "outputs": [
    {
     "data": {
      "text/html": [
       "<div>\n",
       "<style scoped>\n",
       "    .dataframe tbody tr th:only-of-type {\n",
       "        vertical-align: middle;\n",
       "    }\n",
       "\n",
       "    .dataframe tbody tr th {\n",
       "        vertical-align: top;\n",
       "    }\n",
       "\n",
       "    .dataframe thead th {\n",
       "        text-align: right;\n",
       "    }\n",
       "</style>\n",
       "<table border=\"1\" class=\"dataframe\">\n",
       "  <thead>\n",
       "    <tr style=\"text-align: right;\">\n",
       "      <th></th>\n",
       "      <th>Model</th>\n",
       "      <th>R2</th>\n",
       "      <th>Wariancja wyjaśniona</th>\n",
       "      <th>MSE</th>\n",
       "      <th>MAE</th>\n",
       "      <th>MSE (wlasna funkcja)</th>\n",
       "      <th>MAE (wlasna funkcja)</th>\n",
       "    </tr>\n",
       "  </thead>\n",
       "  <tbody>\n",
       "    <tr>\n",
       "      <th>0</th>\n",
       "      <td>Decision tree regressor</td>\n",
       "      <td>-0.556612</td>\n",
       "      <td>-0.550236</td>\n",
       "      <td>1.541187</td>\n",
       "      <td>0.855419</td>\n",
       "      <td>1.541187</td>\n",
       "      <td>0.855419</td>\n",
       "    </tr>\n",
       "    <tr>\n",
       "      <th>1</th>\n",
       "      <td>GradientBoostingRegressor</td>\n",
       "      <td>-0.523172</td>\n",
       "      <td>-0.516970</td>\n",
       "      <td>1.508079</td>\n",
       "      <td>0.840531</td>\n",
       "      <td>1.508079</td>\n",
       "      <td>0.840531</td>\n",
       "    </tr>\n",
       "  </tbody>\n",
       "</table>\n",
       "</div>"
      ],
      "text/plain": [
       "                       Model        R2  Wariancja wyjaśniona       MSE  \\\n",
       "0    Decision tree regressor -0.556612             -0.550236  1.541187   \n",
       "1  GradientBoostingRegressor -0.523172             -0.516970  1.508079   \n",
       "\n",
       "        MAE  MSE (wlasna funkcja)  MAE (wlasna funkcja)  \n",
       "0  0.855419              1.541187              0.855419  \n",
       "1  0.840531              1.508079              0.840531  "
      ]
     },
     "metadata": {},
     "output_type": "display_data"
    }
   ],
   "source": [
    "dtr1 = GradientBoostingRegressor(max_depth=2, min_samples_leaf= 16, min_samples_split=2, random_state=1)\n",
    "dtr1.fit(x_train, y_train)\n",
    "\n",
    "\n",
    "pred = dtr1.predict(x_test)\n",
    "df_model_values = df_model_values.append(pd.DataFrame(count_values(pred, \"GradientBoostingRegressor\"), columns=['Model' , 'R2', 'Wariancja wyjaśniona' , 'MSE', 'MSE (wlasna funkcja)', 'MAE', 'MAE (wlasna funkcja)']),ignore_index = True)"
   ]
  },
  {
   "cell_type": "code",
   "execution_count": 57,
   "metadata": {
    "id": "Abqp6rFL-NMu"
   },
   "outputs": [
    {
     "data": {
      "text/html": [
       "<div>\n",
       "<style scoped>\n",
       "    .dataframe tbody tr th:only-of-type {\n",
       "        vertical-align: middle;\n",
       "    }\n",
       "\n",
       "    .dataframe tbody tr th {\n",
       "        vertical-align: top;\n",
       "    }\n",
       "\n",
       "    .dataframe thead th {\n",
       "        text-align: right;\n",
       "    }\n",
       "</style>\n",
       "<table border=\"1\" class=\"dataframe\">\n",
       "  <thead>\n",
       "    <tr style=\"text-align: right;\">\n",
       "      <th></th>\n",
       "      <th>Model</th>\n",
       "      <th>R2</th>\n",
       "      <th>Wariancja wyjaśniona</th>\n",
       "      <th>MSE</th>\n",
       "      <th>MAE</th>\n",
       "      <th>MSE (wlasna funkcja)</th>\n",
       "      <th>MAE (wlasna funkcja)</th>\n",
       "    </tr>\n",
       "  </thead>\n",
       "  <tbody>\n",
       "    <tr>\n",
       "      <th>0</th>\n",
       "      <td>Decision tree regressor</td>\n",
       "      <td>-0.556612</td>\n",
       "      <td>-0.550236</td>\n",
       "      <td>1.541187</td>\n",
       "      <td>0.855419</td>\n",
       "      <td>1.541187</td>\n",
       "      <td>0.855419</td>\n",
       "    </tr>\n",
       "    <tr>\n",
       "      <th>1</th>\n",
       "      <td>GradientBoostingRegressor</td>\n",
       "      <td>-0.523172</td>\n",
       "      <td>-0.516970</td>\n",
       "      <td>1.508079</td>\n",
       "      <td>0.840531</td>\n",
       "      <td>1.508079</td>\n",
       "      <td>0.840531</td>\n",
       "    </tr>\n",
       "    <tr>\n",
       "      <th>2</th>\n",
       "      <td>ExtraTreesRegressor</td>\n",
       "      <td>-0.061106</td>\n",
       "      <td>-0.057583</td>\n",
       "      <td>1.050592</td>\n",
       "      <td>0.844181</td>\n",
       "      <td>1.050592</td>\n",
       "      <td>0.844181</td>\n",
       "    </tr>\n",
       "  </tbody>\n",
       "</table>\n",
       "</div>"
      ],
      "text/plain": [
       "                       Model        R2  Wariancja wyjaśniona       MSE  \\\n",
       "0    Decision tree regressor -0.556612             -0.550236  1.541187   \n",
       "1  GradientBoostingRegressor -0.523172             -0.516970  1.508079   \n",
       "2        ExtraTreesRegressor -0.061106             -0.057583  1.050592   \n",
       "\n",
       "        MAE  MSE (wlasna funkcja)  MAE (wlasna funkcja)  \n",
       "0  0.855419              1.541187              0.855419  \n",
       "1  0.840531              1.508079              0.840531  \n",
       "2  0.844181              1.050592              0.844181  "
      ]
     },
     "metadata": {},
     "output_type": "display_data"
    },
    {
     "data": {
      "text/html": [
       "<div>\n",
       "<style scoped>\n",
       "    .dataframe tbody tr th:only-of-type {\n",
       "        vertical-align: middle;\n",
       "    }\n",
       "\n",
       "    .dataframe tbody tr th {\n",
       "        vertical-align: top;\n",
       "    }\n",
       "\n",
       "    .dataframe thead th {\n",
       "        text-align: right;\n",
       "    }\n",
       "</style>\n",
       "<table border=\"1\" class=\"dataframe\">\n",
       "  <thead>\n",
       "    <tr style=\"text-align: right;\">\n",
       "      <th></th>\n",
       "      <th>Model</th>\n",
       "      <th>R2</th>\n",
       "      <th>Wariancja wyjaśniona</th>\n",
       "      <th>MSE</th>\n",
       "      <th>MAE</th>\n",
       "      <th>MSE (wlasna funkcja)</th>\n",
       "      <th>MAE (wlasna funkcja)</th>\n",
       "    </tr>\n",
       "  </thead>\n",
       "  <tbody>\n",
       "    <tr>\n",
       "      <th>0</th>\n",
       "      <td>Linear regression</td>\n",
       "      <td>-0.450444</td>\n",
       "      <td>-0.445066</td>\n",
       "      <td>1.436072</td>\n",
       "      <td>0.879166</td>\n",
       "      <td>1.436072</td>\n",
       "      <td>0.879166</td>\n",
       "    </tr>\n",
       "    <tr>\n",
       "      <th>1</th>\n",
       "      <td>Decison tree regression</td>\n",
       "      <td>-0.649384</td>\n",
       "      <td>-0.644501</td>\n",
       "      <td>1.633041</td>\n",
       "      <td>0.887139</td>\n",
       "      <td>1.633041</td>\n",
       "      <td>0.887139</td>\n",
       "    </tr>\n",
       "    <tr>\n",
       "      <th>2</th>\n",
       "      <td>Random forrest regression</td>\n",
       "      <td>-0.576588</td>\n",
       "      <td>-0.572388</td>\n",
       "      <td>1.560966</td>\n",
       "      <td>0.863238</td>\n",
       "      <td>1.560966</td>\n",
       "      <td>0.863238</td>\n",
       "    </tr>\n",
       "    <tr>\n",
       "      <th>3</th>\n",
       "      <td>Gradient Boosting Regression</td>\n",
       "      <td>-0.566988</td>\n",
       "      <td>-0.560972</td>\n",
       "      <td>1.551461</td>\n",
       "      <td>0.851323</td>\n",
       "      <td>1.551461</td>\n",
       "      <td>0.851323</td>\n",
       "    </tr>\n",
       "    <tr>\n",
       "      <th>4</th>\n",
       "      <td>StackingCVRegressor</td>\n",
       "      <td>-0.550487</td>\n",
       "      <td>-0.545501</td>\n",
       "      <td>1.535124</td>\n",
       "      <td>0.851935</td>\n",
       "      <td>1.535124</td>\n",
       "      <td>0.851935</td>\n",
       "    </tr>\n",
       "  </tbody>\n",
       "</table>\n",
       "</div>"
      ],
      "text/plain": [
       "                          Model        R2  Wariancja wyjaśniona       MSE  \\\n",
       "0             Linear regression -0.450444             -0.445066  1.436072   \n",
       "1       Decison tree regression -0.649384             -0.644501  1.633041   \n",
       "2     Random forrest regression -0.576588             -0.572388  1.560966   \n",
       "3  Gradient Boosting Regression -0.566988             -0.560972  1.551461   \n",
       "4           StackingCVRegressor -0.550487             -0.545501  1.535124   \n",
       "\n",
       "        MAE  MSE (wlasna funkcja)  MAE (wlasna funkcja)  \n",
       "0  0.879166              1.436072              0.879166  \n",
       "1  0.887139              1.633041              0.887139  \n",
       "2  0.863238              1.560966              0.863238  \n",
       "3  0.851323              1.551461              0.851323  \n",
       "4  0.851935              1.535124              0.851935  "
      ]
     },
     "metadata": {},
     "output_type": "display_data"
    }
   ],
   "source": [
    "from sklearn.ensemble import ExtraTreesRegressor\n",
    "\n",
    "dtr1 = ExtraTreesRegressor(bootstrap=True, max_features=0.2, min_samples_leaf=19, min_samples_split=18, n_estimators=100)\n",
    "dtr1.fit(x_train, y_train)\n",
    "\n",
    "\n",
    "pred = dtr1.predict(x_test)\n",
    "df_model_values = df_model_values.append(pd.DataFrame(count_values(pred, \"ExtraTreesRegressor\"), columns=['Model' , 'R2', 'Wariancja wyjaśniona' , 'MSE', 'MSE (wlasna funkcja)', 'MAE', 'MAE (wlasna funkcja)']),ignore_index = True)\n",
    "display(df_model_values)\n",
    "\n",
    "display(df_model_values_base)"
   ]
  },
  {
   "cell_type": "markdown",
   "metadata": {},
   "source": [
    "# Wnioski\n",
    "Do optymalizacji wykorzystaliśmy regressory Decision Tree i Gradient Boosting z których Gradient Boosting okazał się tym lepszym. Z kolei wybór najlepszego regresora z wykorzystaniem biblioteki TPot okazało się, że najlepszym regresorem jest ExtraTrees z wartością R2 = -0.52744 i najmniejszymi wartościami MSE i MAE."
   ]
  },
  {
   "cell_type": "code",
   "execution_count": null,
   "metadata": {},
   "outputs": [],
   "source": []
  }
 ],
 "metadata": {
  "colab": {
   "collapsed_sections": [],
   "name": "Nosal_Sasnal_notatnik_2",
   "provenance": []
  },
  "kernelspec": {
   "display_name": "Python 3 (ipykernel)",
   "language": "python",
   "name": "python3"
  },
  "language_info": {
   "codemirror_mode": {
    "name": "ipython",
    "version": 3
   },
   "file_extension": ".py",
   "mimetype": "text/x-python",
   "name": "python",
   "nbconvert_exporter": "python",
   "pygments_lexer": "ipython3",
   "version": "3.9.7"
  }
 },
 "nbformat": 4,
 "nbformat_minor": 1
}
